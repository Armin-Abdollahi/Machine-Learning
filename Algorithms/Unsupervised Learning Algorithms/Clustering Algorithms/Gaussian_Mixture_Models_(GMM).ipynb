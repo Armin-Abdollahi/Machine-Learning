{
  "nbformat": 4,
  "nbformat_minor": 0,
  "metadata": {
    "colab": {
      "provenance": [],
      "authorship_tag": "ABX9TyMkC/0Dz0dwk6mLDAwuinuX",
      "include_colab_link": true
    },
    "kernelspec": {
      "name": "python3",
      "display_name": "Python 3"
    },
    "language_info": {
      "name": "python"
    }
  },
  "cells": [
    {
      "cell_type": "markdown",
      "metadata": {
        "id": "view-in-github",
        "colab_type": "text"
      },
      "source": [
        "<a href=\"https://colab.research.google.com/github/Armin-Abdollahi/Machine-Learning/blob/main/Gaussian_Mixture_Models_(GMM).ipynb\" target=\"_parent\"><img src=\"https://colab.research.google.com/assets/colab-badge.svg\" alt=\"Open In Colab\"/></a>"
      ]
    },
    {
      "cell_type": "markdown",
      "source": [
        "## Gaussian Mixture Models (GMM)\n",
        "\n",
        "Gaussian Mixture Models (GMM) is a probabilistic clustering algorithm that assumes data points are generated from a mixture of several Gaussian distributions with unknown parameters. GMM assigns a probability to each data point for belonging to each cluster, making it a soft clustering technique. It is particularly useful when clusters have di8erent shapes or densities.\n",
        "\n",
        "Here’s a simple implementation using Scikit-Learn:"
      ],
      "metadata": {
        "id": "fDfmvxU2MkZ6"
      }
    },
    {
      "cell_type": "code",
      "execution_count": 1,
      "metadata": {
        "colab": {
          "base_uri": "https://localhost:8080/"
        },
        "id": "_cMnf5sQMiFt",
        "outputId": "6cdca48f-6f4d-4c00-d431-108eb9974479"
      },
      "outputs": [
        {
          "output_type": "stream",
          "name": "stdout",
          "text": [
            "Cluster Labels: [0 0 0 0 0 1]\n",
            "Cluster Probabilities:\n",
            " [[1. 0.]\n",
            " [1. 0.]\n",
            " [1. 0.]\n",
            " [1. 0.]\n",
            " [1. 0.]\n",
            " [0. 1.]]\n"
          ]
        }
      ],
      "source": [
        "# Import necessary libraries\n",
        "from sklearn.mixture import GaussianMixture\n",
        "import numpy as np\n",
        "\n",
        "# Sample data (e.g., points in 2D space)\n",
        "X = np.array([[1, 2], [2, 2], [2, 3], [8, 7], [8, 8], [25, 80]])\n",
        "\n",
        "# Initialize and fit the model\n",
        "gmm = GaussianMixture(n_components=2, random_state=42)\n",
        "gmm.fit(X)\n",
        "\n",
        "# Get the cluster labels and probabilities\n",
        "labels = gmm.predict(X)\n",
        "probs = gmm.predict_proba(X)\n",
        "\n",
        "print(\"Cluster Labels:\", labels)\n",
        "print(\"Cluster Probabilities:\\n\", probs)"
      ]
    }
  ]
}
