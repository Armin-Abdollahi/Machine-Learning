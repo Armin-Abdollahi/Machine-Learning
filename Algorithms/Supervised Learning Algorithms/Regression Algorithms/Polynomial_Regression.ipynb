{
  "nbformat": 4,
  "nbformat_minor": 0,
  "metadata": {
    "colab": {
      "provenance": [],
      "authorship_tag": "ABX9TyN4RXu1640rJpaFjHPfjFXb",
      "include_colab_link": true
    },
    "kernelspec": {
      "name": "python3",
      "display_name": "Python 3"
    },
    "language_info": {
      "name": "python"
    }
  },
  "cells": [
    {
      "cell_type": "markdown",
      "metadata": {
        "id": "view-in-github",
        "colab_type": "text"
      },
      "source": [
        "<a href=\"https://colab.research.google.com/github/Armin-Abdollahi/Machine-Learning/blob/main/Polynomial_Regression.ipynb\" target=\"_parent\"><img src=\"https://colab.research.google.com/assets/colab-badge.svg\" alt=\"Open In Colab\"/></a>"
      ]
    },
    {
      "cell_type": "markdown",
      "source": [
        "## Polynomial Regression\n",
        "\n",
        "Polynomial Regression is an extension of Linear Regression that models the relationship between the input features and the target variable as an nth-degree polynomial. It can capture non-linear relationships in the data by adding polynomial terms to the features.\n",
        "\n",
        "Here’s a simple implementation using Scikit-Learn:"
      ],
      "metadata": {
        "id": "WtbmvsUigOQC"
      }
    },
    {
      "cell_type": "code",
      "execution_count": null,
      "metadata": {
        "id": "gPbiVPw7fx1b"
      },
      "outputs": [],
      "source": [
        "# Import necessary libraries\n",
        "from sklearn.linear_model import LinearRegression\n",
        "from sklearn.preprocessing import PolynomialFeatures\n",
        "from sklearn.model_selection import train_test_split\n",
        "from sklearn.metrics import mean_squared_error\n",
        "import numpy as np\n",
        "\n",
        "# Sample data (e.g., experience vs. salary)\n",
        "X = np.array([[1], [2], [3], [4], [5], [6], [7], [8], [9], [10]])\n",
        "Y = np.array([45000, 50000, 60000, 80000, 110000, 150000, 200000, 300000, 400000, 500000])\n",
        "\n",
        "# Split the data into training and testing sets\n",
        "X_train, X_test, Y_train, Y_test = train_test_split(X, Y, test_size=0.2, random_sate=42)\n",
        "\n",
        "# Transform features into polynomial features\n",
        "poly = PolynomialFeatures(degree=2)\n",
        "\n",
        "# degree determines the polynomial complexity\n",
        "X_train_poly = poly.fit_transform(X_train)\n",
        "X_test_poly = poly.transform(X_test)\n",
        "\n",
        "# Initialize and train the model\n",
        "model = LinearRegression()\n",
        "model.fit(X_train_poly, Y_train)\n",
        "\n",
        "# Make predictions\n",
        "Y_pred = model.predict(X_test_poly)\n",
        "\n",
        "# Evaluate the model\n",
        "mse = mean_squared_error(Y_test, Y_pred)\n",
        "print(\"Mean Squared Error:\", mse)\n",
        "print(\"Predicted Values:\", Y_pred)\n"
      ]
    }
  ]
}
