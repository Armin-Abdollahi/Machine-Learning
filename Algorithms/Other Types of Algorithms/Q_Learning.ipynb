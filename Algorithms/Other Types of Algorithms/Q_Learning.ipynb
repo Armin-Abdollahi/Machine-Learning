{
  "nbformat": 4,
  "nbformat_minor": 0,
  "metadata": {
    "colab": {
      "provenance": [],
      "authorship_tag": "ABX9TyOn+o+IrwE4+qx/U4qee+7C",
      "include_colab_link": true
    },
    "kernelspec": {
      "name": "python3",
      "display_name": "Python 3"
    },
    "language_info": {
      "name": "python"
    }
  },
  "cells": [
    {
      "cell_type": "markdown",
      "metadata": {
        "id": "view-in-github",
        "colab_type": "text"
      },
      "source": [
        "<a href=\"https://colab.research.google.com/github/Armin-Abdollahi/Machine-Learning/blob/main/Q_Learning.ipynb\" target=\"_parent\"><img src=\"https://colab.research.google.com/assets/colab-badge.svg\" alt=\"Open In Colab\"/></a>"
      ]
    },
    {
      "cell_type": "markdown",
      "source": [
        "## Q-Learning\n",
        "\n",
        "Q-Learning is a model-free reinforcement learning algorithm used to find the optimal actionselection policy for a given problem. It learns by interacting with an environment, updating a Q-table (a matrix of state-action values), and maximizing the expected cumulative reward. Q-Learning is e8ective in problems where the environment can be represented by discrete states and actions.\n",
        "\n",
        "Here’s a simple implementation of Q-Learning in a grid environment:"
      ],
      "metadata": {
        "id": "Z2xaCq5-h7Ob"
      }
    },
    {
      "cell_type": "code",
      "execution_count": 1,
      "metadata": {
        "id": "cab8mZfnh1m8",
        "colab": {
          "base_uri": "https://localhost:8080/"
        },
        "outputId": "e0c97f08-a3de-4505-f5c0-ee004b21b0e4"
      },
      "outputs": [
        {
          "output_type": "stream",
          "name": "stdout",
          "text": [
            "Learned Q-Table:\n",
            "[[0.         0.59039776 0.         0.        ]\n",
            " [0.         0.65607715 0.         0.24417907]\n",
            " [0.         0.72880909 0.         0.43138882]\n",
            " [0.         0.80976195 0.         0.35251017]\n",
            " [0.38871906 0.43473295 0.         0.6561    ]\n",
            " [0.53841595 0.729      0.54922315 0.53314126]\n",
            " [0.62550393 0.79200721 0.62143845 0.81      ]\n",
            " [0.51579154 0.9        0.60517024 0.        ]\n",
            " [0.5901829  0.29707423 0.         0.34652622]\n",
            " [0.65609942 0.55581246 0.31245698 0.19701784]\n",
            " [0.72576144 0.9        0.58636115 0.71988224]\n",
            " [0.80911148 1.         0.80851334 0.        ]\n",
            " [0.1479626  0.6535386  0.         0.        ]\n",
            " [0.43949131 0.72899826 0.22177056 0.        ]\n",
            " [0.81       0.6861894  0.55963409 0.        ]\n",
            " [0.         0.         0.         0.        ]]\n"
          ]
        }
      ],
      "source": [
        "import numpy as np\n",
        "import random\n",
        "\n",
        "# Define the environment (4x4 grid)\n",
        "num_states = 16  # 4x4 grid\n",
        "num_actions = 4  # Up, Right, Down, Left\n",
        "q_table = np.zeros((num_states, num_actions))\n",
        "\n",
        "# Define the parameters\n",
        "alpha = 0.1  # Learning rate\n",
        "gamma = 0.9  # Discount factor\n",
        "epsilon = 0.2  # Exploration rate\n",
        "num_episodes = 1000\n",
        "\n",
        "# Define a simple reward structure\n",
        "rewards = np.zeros(num_states)\n",
        "rewards[15] = 1  # Goal state with reward\n",
        "\n",
        "# Define possible actions for each state (0: Up, 1: Right, 2: Down, 3: Left)\n",
        "actions = {\n",
        "    0: [(4, 1)], 1: [(5, 1), (0, 3)], 2: [(6, 1), (1, 3)], 3: [(7, 1), (2, 3)],\n",
        "    4: [(0, 0), (8, 1), (5, 3)], 5: [(1, 0), (4, 2), (6, 1), (9, 3)], 6: [(2, 0), (5, 2), (7, 1), (10, 3)], 7: [(3, 0), (6, 2), (11, 1)],\n",
        "    8: [(4, 0), (12, 1), (9, 3)], 9: [(5, 0), (8, 2), (10, 1), (13, 3)], 10: [(6, 0), (9, 2), (11, 1), (14, 3)], 11: [(7, 0), (10, 2), (15, 1)],\n",
        "    12: [(8, 0), (13, 1)], 13: [(9, 0), (12, 2), (14, 1)], 14: [(10, 0), (13, 2), (15, 1)], 15: [(11, 0), (14, 2)]\n",
        "}\n",
        "\n",
        "# Q-Learning algorithm\n",
        "for episode in range(num_episodes):\n",
        "    state = random.randint(0, num_states - 1)  # Start from a random state\n",
        "    while state != 15:  # Loop until reaching the goal state\n",
        "        if random.uniform(0, 1) < epsilon:\n",
        "            next_state, action = random.choice(actions[state])  # Exploration\n",
        "        else:\n",
        "            action_values = [q_table[state, action[1]] for action in actions[state]]\n",
        "            action_index = np.argmax(action_values)\n",
        "            next_state, action = actions[state][action_index]\n",
        "\n",
        "        reward = rewards[next_state]\n",
        "        old_value = q_table[state, action]\n",
        "        next_max = np.max(q_table[next_state])\n",
        "\n",
        "        # Q-Learning update rule\n",
        "        new_value = old_value + alpha * (reward + gamma * next_max - old_value)\n",
        "        q_table[state, action] = new_value\n",
        "\n",
        "        state = next_state  # Move to the next state\n",
        "\n",
        "# Display the learned Q-Table\n",
        "print(\"Learned Q-Table:\")\n",
        "print(q_table)"
      ]
    }
  ]
}
