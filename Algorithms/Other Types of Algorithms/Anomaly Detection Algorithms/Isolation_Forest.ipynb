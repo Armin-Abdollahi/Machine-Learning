{
  "nbformat": 4,
  "nbformat_minor": 0,
  "metadata": {
    "colab": {
      "provenance": [],
      "authorship_tag": "ABX9TyPy1qgRPlxryImjw2P7RYHe",
      "include_colab_link": true
    },
    "kernelspec": {
      "name": "python3",
      "display_name": "Python 3"
    },
    "language_info": {
      "name": "python"
    }
  },
  "cells": [
    {
      "cell_type": "markdown",
      "metadata": {
        "id": "view-in-github",
        "colab_type": "text"
      },
      "source": [
        "<a href=\"https://colab.research.google.com/github/Armin-Abdollahi/Machine-Learning/blob/main/Isolation_Forest.ipynb\" target=\"_parent\"><img src=\"https://colab.research.google.com/assets/colab-badge.svg\" alt=\"Open In Colab\"/></a>"
      ]
    },
    {
      "cell_type": "markdown",
      "source": [
        "## Isolation Forest\n",
        "\n",
        "Isolation Forest is an ensemble method for anomaly detection that isolates anomalies rather than profiling normal data. The algorithm randomly selects a feature and a split value to partition the data, creating trees where anomalies are easier to isolate due to their sparse distribution. Anomalies are identified based on their shorter path lengths in the tree structure, as they are isolated faster than normal points.\n",
        "\n",
        "Here’s a simple implementation using Scikit-Learn:"
      ],
      "metadata": {
        "id": "YUvMDohm7PAl"
      }
    },
    {
      "cell_type": "code",
      "execution_count": 1,
      "metadata": {
        "colab": {
          "base_uri": "https://localhost:8080/"
        },
        "id": "FOr_BSAK7KaR",
        "outputId": "9b7bc6d3-c5bb-4ed9-d0e1-d14a46e91075"
      },
      "outputs": [
        {
          "output_type": "stream",
          "name": "stdout",
          "text": [
            "Predictions: [ 1  1  1  1  1  1  1  1  1  1 -1  1  1  1  1  1  1  1  1  1  1 -1  1  1\n",
            "  1  1 -1  1  1  1  1  1 -1  1  1 -1  1  1 -1  1 -1  1 -1  1  1  1  1  1\n",
            "  1  1  1  1  1  1  1  1  1  1  1  1  1  1  1  1  1  1  1  1 -1  1 -1  1\n",
            "  1  1  1 -1  1  1  1  1  1  1  1  1  1  1  1  1  1  1  1  1  1  1  1  1\n",
            "  1  1  1  1  1  1  1  1  1  1  1  1  1  1  1  1  1  1  1  1  1 -1  1  1\n",
            "  1 -1  1  1  1  1  1  1  1  1  1  1 -1  1  1 -1  1  1 -1  1  1  1 -1  1\n",
            "  1  1  1  1  1  1  1  1  1  1  1  1  1  1  1  1  1  1  1  1  1  1  1  1\n",
            " -1  1 -1  1  1  1  1 -1  1  1  1  1  1  1  1  1  1  1  1  1  1  1  1  1\n",
            "  1  1  1  1  1  1  1  1 -1 -1 -1 -1 -1 -1 -1 -1 -1 -1 -1 -1 -1 -1 -1 -1\n",
            " -1 -1 -1 -1]\n"
          ]
        }
      ],
      "source": [
        "# Import necessary libraries\n",
        "from sklearn.ensemble import IsolationForest\n",
        "import numpy as np\n",
        "\n",
        "# Sample data (normal data points clustered around 0)\n",
        "X = 0.3 * np.random.rand(100, 2)\n",
        "X_train = np.r_[X +2, X - 2]\n",
        "# Create a dataset with points around two clusters\n",
        "\n",
        "# New test data including some outliers\n",
        "X_test = np.r_[X + 2, X - 2, np.random.uniform(low=-6, high=6, size=(20, 2))]\n",
        "\n",
        "# Initialize and train the model\n",
        "model = IsolationForest(contamination=0.1, random_state=42)\n",
        "# contamination is the expected proportion of outliers\n",
        "model.fit(X_train)\n",
        "\n",
        "# Predict on test data (-1 indicates an anomaly, 1 indicates normal)\n",
        "predictions = model.predict(X_test)\n",
        "\n",
        "# Display predictions\n",
        "print(\"Predictions:\", predictions)"
      ]
    }
  ]
}
