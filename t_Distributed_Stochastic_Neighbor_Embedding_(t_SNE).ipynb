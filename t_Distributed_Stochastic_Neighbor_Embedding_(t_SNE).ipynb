{
  "nbformat": 4,
  "nbformat_minor": 0,
  "metadata": {
    "colab": {
      "provenance": [],
      "authorship_tag": "ABX9TyM+phcpxycVTOwytcgEZzPX",
      "include_colab_link": true
    },
    "kernelspec": {
      "name": "python3",
      "display_name": "Python 3"
    },
    "language_info": {
      "name": "python"
    }
  },
  "cells": [
    {
      "cell_type": "markdown",
      "metadata": {
        "id": "view-in-github",
        "colab_type": "text"
      },
      "source": [
        "<a href=\"https://colab.research.google.com/github/Armin-Abdollahi/Machine-Learning/blob/main/t_Distributed_Stochastic_Neighbor_Embedding_(t_SNE).ipynb\" target=\"_parent\"><img src=\"https://colab.research.google.com/assets/colab-badge.svg\" alt=\"Open In Colab\"/></a>"
      ]
    },
    {
      "cell_type": "markdown",
      "source": [
        "## t-Distributed Stochastic Neighbor Embedding (t-SNE)\n",
        "\n",
        "t-SNE is a dimensionality reduction technique primarily used for visualizing highdimensional data in 2D or 3D space. Unlike PCA, t-SNE is non-linear and focuses on preserving the local structure of data, making it highly e8ective for visualizing clusters. However, it is computationally intensive and best suited for small to medium-sized datasets.\n",
        "\n",
        "Here’s a simple implementation using Scikit-Learn:"
      ],
      "metadata": {
        "id": "yDTEFf2KTa27"
      }
    },
    {
      "cell_type": "code",
      "execution_count": 1,
      "metadata": {
        "colab": {
          "base_uri": "https://localhost:8080/"
        },
        "id": "Q82bq3a3TM6J",
        "outputId": "ba8216a7-49f0-451d-b412-7f8a23406bca"
      },
      "outputs": [
        {
          "output_type": "stream",
          "name": "stdout",
          "text": [
            "Reduced Data:\n",
            " [[ 123.05268  -100.15746 ]\n",
            " [  72.252945 -132.54846 ]\n",
            " [  44.205624  -81.48388 ]\n",
            " [ -41.13918   -38.288322]\n",
            " [ -86.6141    -12.084756]\n",
            " [-141.14963    54.672825]\n",
            " [-190.27983    29.106152]]\n"
          ]
        }
      ],
      "source": [
        "# Import necessary libraries\n",
        "from sklearn.manifold import TSNE\n",
        "import numpy as np\n",
        "\n",
        "# Sample data (e.g., points in high-dimensional space)\n",
        "X = np.array([[1, 2, 3], [2, 3, 4], [3, 4, 5], [5, 6, 7], [5, 7, 8], [8, 9, 10], [9, 10, 11]])\n",
        "\n",
        "# Initialize and fit the model\n",
        "tsne = TSNE(n_components=2, perplexity=3, random_state=42)\n",
        "# Reducing to 2D for visualization\n",
        "X_reduced = tsne.fit_transform(X)\n",
        "\n",
        "print(\"Reduced Data:\\n\", X_reduced)"
      ]
    }
  ]
}